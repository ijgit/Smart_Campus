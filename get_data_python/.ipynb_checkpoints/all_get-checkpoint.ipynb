{
 "cells": [
  {
   "cell_type": "code",
   "execution_count": 1,
   "metadata": {
    "ExecuteTime": {
     "end_time": "2020-05-28T13:18:30.394593Z",
     "start_time": "2020-05-28T13:18:29.917831Z"
    }
   },
   "outputs": [],
   "source": [
    "import requests\n",
    "import time\n",
    "import datetime\n",
    "from datetime import datetime as dt\n",
    "import numpy as np\n",
    "import sys\n",
    "import pandas as pd\n",
    "import sys"
   ]
  },
  {
   "cell_type": "code",
   "execution_count": 27,
   "metadata": {
    "ExecuteTime": {
     "end_time": "2020-05-28T13:27:26.605942Z",
     "start_time": "2020-05-28T13:27:26.602903Z"
    }
   },
   "outputs": [],
   "source": [
    "# 원하는 날짜-1\n",
    "# 27일 ~ 28일 -> 28일 ~ 29일\n",
    "\n",
    "cra = '20200427'\n",
    "crb = '20200527'\n",
    "cse = \"http://203.253.128.161:7579/Mobius/\"\n",
    "ae = 'ubicomp_lora/'"
   ]
  },
  {
   "cell_type": "code",
   "execution_count": 28,
   "metadata": {
    "ExecuteTime": {
     "end_time": "2020-05-28T13:27:27.193206Z",
     "start_time": "2020-05-28T13:27:27.190214Z"
    }
   },
   "outputs": [],
   "source": [
    "# 모비우스 저장 시 기준, 한국 시 기준을 맞추기 위함\n",
    "\n",
    "time_dif = 'T143000'\n",
    "cra_ = str(int(cra) - 1)\n",
    "query = f'?rcn=4&cra={cra_+time_dif}&crb={crb+time_dif}'"
   ]
  },
  {
   "cell_type": "code",
   "execution_count": 29,
   "metadata": {
    "ExecuteTime": {
     "end_time": "2020-05-28T13:27:27.975676Z",
     "start_time": "2020-05-28T13:27:27.971687Z"
    }
   },
   "outputs": [],
   "source": [
    "payload = {}\n",
    "headers = {\n",
    "  'Accept': 'application/json',\n",
    "  'X-M2M-RI': '12345',\n",
    "  'X-M2M-Origin': 'SOrigin'\n",
    "}"
   ]
  },
  {
   "cell_type": "code",
   "execution_count": 32,
   "metadata": {
    "ExecuteTime": {
     "end_time": "2020-05-28T13:27:29.655248Z",
     "start_time": "2020-05-28T13:27:29.651258Z"
    }
   },
   "outputs": [],
   "source": [
    "from datetime import datetime as dt\n",
    "\n",
    "cra_d = dt.strptime(cra[0:8], '%Y%m%d')\n",
    "crb_d = dt.strptime(crb[0:8], '%Y%m%d') + datetime.timedelta(days=1)"
   ]
  },
  {
   "cell_type": "code",
   "execution_count": 33,
   "metadata": {
    "ExecuteTime": {
     "end_time": "2020-05-28T13:27:30.089459Z",
     "start_time": "2020-05-28T13:27:30.085499Z"
    }
   },
   "outputs": [
    {
     "data": {
      "text/plain": [
       "1488"
      ]
     },
     "execution_count": 33,
     "metadata": {},
     "output_type": "execute_result"
    }
   ],
   "source": [
    "d_dif = crb_d - cra_d\n",
    "dif_min = d_dif.total_seconds() // 60\n",
    "DATA_LEN = int(dif_min // 30) \n",
    "DATA_LEN\n",
    "#dif_min/60/24"
   ]
  },
  {
   "cell_type": "code",
   "execution_count": null,
   "metadata": {},
   "outputs": [],
   "source": []
  },
  {
   "cell_type": "code",
   "execution_count": null,
   "metadata": {},
   "outputs": [],
   "source": []
  },
  {
   "cell_type": "code",
   "execution_count": 55,
   "metadata": {
    "ExecuteTime": {
     "end_time": "2020-05-28T13:55:46.050675Z",
     "start_time": "2020-05-28T13:55:46.044692Z"
    }
   },
   "outputs": [],
   "source": [
    "# 행 -> 시간 정보 (정상 데이터 개수) crb - cra\n",
    "# 열 -> 정보 종류 (?) (인덱스) 13\n",
    "node_num = 15\n",
    "data = pd.DataFrame(np.nan, index=range(DATA_LEN*node_num), columns=range(13))"
   ]
  },
  {
   "cell_type": "code",
   "execution_count": 72,
   "metadata": {
    "ExecuteTime": {
     "end_time": "2020-05-28T14:00:35.021231Z",
     "start_time": "2020-05-28T13:59:48.761195Z"
    }
   },
   "outputs": [],
   "source": [
    "base = 0\n",
    "\n",
    "for i in range(1, 16):\n",
    "    k = i if(i != 4) else 16\n",
    "\n",
    "    cnt = str(k)\n",
    "    url = cse+ae+cnt+query\n",
    "    r = requests.get(url, headers=headers, data=payload)\n",
    "\n",
    "    if r.status_code != 200:\n",
    "        sys.exit(0)\n",
    "\n",
    "    cin = r.json()['m2m:rsp']['m2m:cin']\n",
    "    cin = pd.DataFrame(cin)['con']\n",
    "    cin_ = pd.DataFrame(cin.str.replace('\\r', '').str.split(',').tolist())\n",
    "\n",
    "    d_str = cin_[3]+' '+cin_[4]\n",
    "    d_format = '%Y/%m/%d %H:%M:%S'\n",
    "    for i in range(0, len(cin_)):\n",
    "        crd_d = dt.strptime(d_str[i], d_format)\n",
    "        cin_.loc[i,13] = int(((crd_d - cra_d).total_seconds()//60)//30)\n",
    "\n",
    "    cin_ = cin_.astype({13:'int'})\n",
    "    cin_.sort_values(by=13, inplace=True) # 시간 순서 정렬\n",
    "    cin = cin_.to_numpy() # numpy 로 안바꿔서 넣으면 행 순서가 뒤죽박죽 됨\n",
    "\n",
    "    for i in range(len(cin)):\n",
    "        data.loc[base + cin[i,13]] = cin[i,:13]\n",
    "    \n",
    "    data[0][base:base+DATA_LEN].fillna(k, inplace=True)\n",
    "    \n",
    "    base = base + DATA_LEN"
   ]
  },
  {
   "cell_type": "code",
   "execution_count": 81,
   "metadata": {
    "ExecuteTime": {
     "end_time": "2020-05-28T14:09:59.915745Z",
     "start_time": "2020-05-28T14:09:59.911756Z"
    }
   },
   "outputs": [],
   "source": [
    "data.columns = ['noid', 'ix_tot', 'ix_day', 'yymmdd','hhmmss', 'lati', 'long','alti','pm1', 'pm2_5', 'pm10', 'temp', 'batt']"
   ]
  },
  {
   "cell_type": "code",
   "execution_count": 98,
   "metadata": {
    "ExecuteTime": {
     "end_time": "2020-05-28T14:26:53.573526Z",
     "start_time": "2020-05-28T14:26:53.570534Z"
    }
   },
   "outputs": [],
   "source": [
    "filename = f'{cra}_{crb}.csv'"
   ]
  },
  {
   "cell_type": "code",
   "execution_count": 99,
   "metadata": {
    "ExecuteTime": {
     "end_time": "2020-05-28T14:27:02.382531Z",
     "start_time": "2020-05-28T14:27:02.307596Z"
    }
   },
   "outputs": [],
   "source": [
    "data.to_csv(filename, na_rep = 'nan', index=False)"
   ]
  },
  {
   "cell_type": "code",
   "execution_count": null,
   "metadata": {},
   "outputs": [],
   "source": []
  }
 ],
 "metadata": {
  "kernelspec": {
   "display_name": "Python 3",
   "language": "python",
   "name": "python3"
  },
  "language_info": {
   "codemirror_mode": {
    "name": "ipython",
    "version": 3
   },
   "file_extension": ".py",
   "mimetype": "text/x-python",
   "name": "python",
   "nbconvert_exporter": "python",
   "pygments_lexer": "ipython3",
   "version": "3.7.7"
  },
  "toc": {
   "base_numbering": 1,
   "nav_menu": {},
   "number_sections": true,
   "sideBar": true,
   "skip_h1_title": false,
   "title_cell": "Table of Contents",
   "title_sidebar": "Contents",
   "toc_cell": false,
   "toc_position": {},
   "toc_section_display": true,
   "toc_window_display": false
  }
 },
 "nbformat": 4,
 "nbformat_minor": 4
}
