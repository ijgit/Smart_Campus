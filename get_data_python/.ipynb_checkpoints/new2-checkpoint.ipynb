{
 "cells": [
  {
   "cell_type": "code",
   "execution_count": 4,
   "metadata": {
    "ExecuteTime": {
     "end_time": "2020-05-28T12:10:25.094945Z",
     "start_time": "2020-05-28T12:10:24.603205Z"
    }
   },
   "outputs": [],
   "source": [
    "import requests\n",
    "import time\n",
    "import datetime\n",
    "from datetime import datetime as dt\n",
    "import numpy as np\n",
    "import sys\n",
    "import pandas as pd\n",
    "import sys"
   ]
  },
  {
   "cell_type": "code",
   "execution_count": 48,
   "metadata": {
    "ExecuteTime": {
     "end_time": "2020-05-28T12:39:48.237220Z",
     "start_time": "2020-05-28T12:39:48.234258Z"
    }
   },
   "outputs": [],
   "source": [
    "# 원하는 날짜-1\n",
    "# 27일 ~ 28일 -> 28일 ~ 29일\n",
    "\n",
    "cra = '20200526'\n",
    "crb = '20200527'\n",
    "cse = \"http://203.253.128.161:7579/Mobius/\"\n",
    "ae = 'ubicomp_lora/'"
   ]
  },
  {
   "cell_type": "code",
   "execution_count": 49,
   "metadata": {
    "ExecuteTime": {
     "end_time": "2020-05-28T12:39:48.599423Z",
     "start_time": "2020-05-28T12:39:48.596457Z"
    }
   },
   "outputs": [],
   "source": [
    "# 모비우스 저장 시 기준, 한국 시 기준을 맞추기 위함\n",
    "\n",
    "time_dif = 'T143000'\n",
    "cra_ = str(int(cra) - 1)\n",
    "query = f'?rcn=4&cra={cra_+time_dif}&crb={crb+time_dif}'"
   ]
  },
  {
   "cell_type": "code",
   "execution_count": 50,
   "metadata": {
    "ExecuteTime": {
     "end_time": "2020-05-28T12:39:49.349497Z",
     "start_time": "2020-05-28T12:39:49.346530Z"
    }
   },
   "outputs": [],
   "source": [
    "payload = {}\n",
    "headers = {\n",
    "  'Accept': 'application/json',\n",
    "  'X-M2M-RI': '12345',\n",
    "  'X-M2M-Origin': 'SOrigin'\n",
    "}"
   ]
  },
  {
   "cell_type": "code",
   "execution_count": 51,
   "metadata": {
    "ExecuteTime": {
     "end_time": "2020-05-28T12:39:49.749757Z",
     "start_time": "2020-05-28T12:39:49.740781Z"
    }
   },
   "outputs": [],
   "source": [
    "data = []\n",
    "\n",
    "df = pd.DataFrame(columns=[0, 1, 2, 3, 4, 5, 6, 7, 8, 9, 10, 11, 12, 13])\n",
    "all_df = pd.DataFrame(columns=[0, 1, 2, 3, 4, 5, 6, 7, 8, 9, 10, 11, 12, 13])"
   ]
  },
  {
   "cell_type": "code",
   "execution_count": 52,
   "metadata": {
    "ExecuteTime": {
     "end_time": "2020-05-28T12:39:51.596540Z",
     "start_time": "2020-05-28T12:39:51.592576Z"
    }
   },
   "outputs": [],
   "source": [
    "start = time.time()"
   ]
  },
  {
   "cell_type": "code",
   "execution_count": null,
   "metadata": {},
   "outputs": [],
   "source": []
  },
  {
   "cell_type": "code",
   "execution_count": 68,
   "metadata": {
    "ExecuteTime": {
     "end_time": "2020-05-28T12:44:10.578028Z",
     "start_time": "2020-05-28T12:44:10.574039Z"
    }
   },
   "outputs": [],
   "source": [
    "from datetime import datetime as dt\n",
    "\n",
    "cra_d = dt.strptime(cra[0:8], '%Y%m%d')\n",
    "crb_d = dt.strptime(crb[0:8], '%Y%m%d') + datetime.timedelta(days=1)"
   ]
  },
  {
   "cell_type": "code",
   "execution_count": 69,
   "metadata": {
    "ExecuteTime": {
     "end_time": "2020-05-28T12:44:10.967153Z",
     "start_time": "2020-05-28T12:44:10.962168Z"
    }
   },
   "outputs": [
    {
     "data": {
      "text/plain": [
       "96"
      ]
     },
     "execution_count": 69,
     "metadata": {},
     "output_type": "execute_result"
    }
   ],
   "source": [
    "d_dif = crb_d - cra_d\n",
    "dif_min = d_dif.total_seconds() // 60\n",
    "DATA_LEN = int(dif_min // 30) \n",
    "DATA_LEN\n",
    "#dif_min/60/24"
   ]
  },
  {
   "cell_type": "code",
   "execution_count": null,
   "metadata": {},
   "outputs": [],
   "source": []
  },
  {
   "cell_type": "code",
   "execution_count": null,
   "metadata": {},
   "outputs": [],
   "source": []
  },
  {
   "cell_type": "code",
   "execution_count": 119,
   "metadata": {
    "ExecuteTime": {
     "end_time": "2020-05-28T13:14:30.243308Z",
     "start_time": "2020-05-28T13:14:30.239308Z"
    }
   },
   "outputs": [],
   "source": [
    "# 행 -> 시간 정보 (정상 데이터 개수) crb - cra\n",
    "# 열 -> 정보 종류 (?) (인덱스) 13\n",
    "# 테스트용이므로 행 한개만 생성\n",
    "df = pd.DataFrame('NaN', index=range(DATA_LEN), columns=range(13))"
   ]
  },
  {
   "cell_type": "code",
   "execution_count": null,
   "metadata": {},
   "outputs": [],
   "source": []
  },
  {
   "cell_type": "code",
   "execution_count": 79,
   "metadata": {
    "ExecuteTime": {
     "end_time": "2020-05-28T12:50:13.804988Z",
     "start_time": "2020-05-28T12:50:13.602262Z"
    }
   },
   "outputs": [],
   "source": [
    "k = 1\n",
    "cnt = str(k)\n",
    "url = cse+ae+cnt+query\n",
    "r = requests.get(url, headers=headers, data=payload)\n",
    "\n",
    "if r.status_code != 200:\n",
    "    sys.exit(0)\n",
    "\n",
    "cin = r.json()['m2m:rsp']['m2m:cin']\n",
    "cin_df = pd.DataFrame(cin)['con']\n",
    "cin_split = pd.DataFrame(cin_df.str.replace('\\r', '').str.split(',').tolist())"
   ]
  },
  {
   "cell_type": "code",
   "execution_count": 80,
   "metadata": {
    "ExecuteTime": {
     "end_time": "2020-05-28T12:50:13.936357Z",
     "start_time": "2020-05-28T12:50:13.932340Z"
    }
   },
   "outputs": [],
   "source": [
    "d_str = cin_split[3]+' '+cin_split[4]\n",
    "d_format = '%Y/%m/%d %H:%M:%S'"
   ]
  },
  {
   "cell_type": "code",
   "execution_count": 81,
   "metadata": {
    "ExecuteTime": {
     "end_time": "2020-05-28T12:50:14.438887Z",
     "start_time": "2020-05-28T12:50:14.405649Z"
    },
    "scrolled": true
   },
   "outputs": [],
   "source": [
    "for i in range(0, len(cin_split)):\n",
    "    crd_d = dt.strptime(d_str[i], d_format)\n",
    "    cin_split.loc[i,13] = int(((crd_d - cra_d).total_seconds()//60)//30)"
   ]
  },
  {
   "cell_type": "code",
   "execution_count": 110,
   "metadata": {
    "ExecuteTime": {
     "end_time": "2020-05-28T13:10:20.320974Z",
     "start_time": "2020-05-28T13:10:20.302989Z"
    }
   },
   "outputs": [
    {
     "data": {
      "text/html": [
       "<div>\n",
       "<style scoped>\n",
       "    .dataframe tbody tr th:only-of-type {\n",
       "        vertical-align: middle;\n",
       "    }\n",
       "\n",
       "    .dataframe tbody tr th {\n",
       "        vertical-align: top;\n",
       "    }\n",
       "\n",
       "    .dataframe thead th {\n",
       "        text-align: right;\n",
       "    }\n",
       "</style>\n",
       "<table border=\"1\" class=\"dataframe\">\n",
       "  <thead>\n",
       "    <tr style=\"text-align: right;\">\n",
       "      <th></th>\n",
       "      <th>0</th>\n",
       "      <th>1</th>\n",
       "      <th>2</th>\n",
       "      <th>3</th>\n",
       "      <th>4</th>\n",
       "      <th>5</th>\n",
       "      <th>6</th>\n",
       "      <th>7</th>\n",
       "      <th>8</th>\n",
       "      <th>9</th>\n",
       "      <th>10</th>\n",
       "      <th>11</th>\n",
       "      <th>12</th>\n",
       "      <th>13</th>\n",
       "    </tr>\n",
       "  </thead>\n",
       "  <tbody>\n",
       "    <tr>\n",
       "      <th>95</th>\n",
       "      <td>1</td>\n",
       "      <td>418</td>\n",
       "      <td>0</td>\n",
       "      <td>2020/05/26</td>\n",
       "      <td>00:00:52</td>\n",
       "      <td>36.7707</td>\n",
       "      <td>126.9294</td>\n",
       "      <td>37</td>\n",
       "      <td>38</td>\n",
       "      <td>66</td>\n",
       "      <td>86</td>\n",
       "      <td>13.55</td>\n",
       "      <td>3.5</td>\n",
       "      <td>0</td>\n",
       "    </tr>\n",
       "    <tr>\n",
       "      <th>94</th>\n",
       "      <td>1</td>\n",
       "      <td>419</td>\n",
       "      <td>1</td>\n",
       "      <td>2020/05/26</td>\n",
       "      <td>00:30:52</td>\n",
       "      <td>36.7707</td>\n",
       "      <td>126.9294</td>\n",
       "      <td>37</td>\n",
       "      <td>39</td>\n",
       "      <td>73</td>\n",
       "      <td>93</td>\n",
       "      <td>13.55</td>\n",
       "      <td>3.5</td>\n",
       "      <td>1</td>\n",
       "    </tr>\n",
       "    <tr>\n",
       "      <th>93</th>\n",
       "      <td>1</td>\n",
       "      <td>420</td>\n",
       "      <td>2</td>\n",
       "      <td>2020/05/26</td>\n",
       "      <td>01:00:52</td>\n",
       "      <td>36.7707</td>\n",
       "      <td>126.9294</td>\n",
       "      <td>37</td>\n",
       "      <td>34</td>\n",
       "      <td>58</td>\n",
       "      <td>75</td>\n",
       "      <td>13.55</td>\n",
       "      <td>3.5</td>\n",
       "      <td>2</td>\n",
       "    </tr>\n",
       "    <tr>\n",
       "      <th>92</th>\n",
       "      <td>1</td>\n",
       "      <td>421</td>\n",
       "      <td>3</td>\n",
       "      <td>2020/05/26</td>\n",
       "      <td>01:30:52</td>\n",
       "      <td>36.7707</td>\n",
       "      <td>126.9294</td>\n",
       "      <td>37</td>\n",
       "      <td>37</td>\n",
       "      <td>64</td>\n",
       "      <td>84</td>\n",
       "      <td>13.23</td>\n",
       "      <td>3.5</td>\n",
       "      <td>3</td>\n",
       "    </tr>\n",
       "    <tr>\n",
       "      <th>91</th>\n",
       "      <td>1</td>\n",
       "      <td>422</td>\n",
       "      <td>4</td>\n",
       "      <td>2020/05/26</td>\n",
       "      <td>02:00:52</td>\n",
       "      <td>36.7707</td>\n",
       "      <td>126.9294</td>\n",
       "      <td>37</td>\n",
       "      <td>30</td>\n",
       "      <td>54</td>\n",
       "      <td>68</td>\n",
       "      <td>13.23</td>\n",
       "      <td>3.5</td>\n",
       "      <td>4</td>\n",
       "    </tr>\n",
       "    <tr>\n",
       "      <th>...</th>\n",
       "      <td>...</td>\n",
       "      <td>...</td>\n",
       "      <td>...</td>\n",
       "      <td>...</td>\n",
       "      <td>...</td>\n",
       "      <td>...</td>\n",
       "      <td>...</td>\n",
       "      <td>...</td>\n",
       "      <td>...</td>\n",
       "      <td>...</td>\n",
       "      <td>...</td>\n",
       "      <td>...</td>\n",
       "      <td>...</td>\n",
       "      <td>...</td>\n",
       "    </tr>\n",
       "    <tr>\n",
       "      <th>3</th>\n",
       "      <td>1</td>\n",
       "      <td>509</td>\n",
       "      <td>43</td>\n",
       "      <td>2020/05/27</td>\n",
       "      <td>21:30:49</td>\n",
       "      <td>36.7707</td>\n",
       "      <td>126.9294</td>\n",
       "      <td>37</td>\n",
       "      <td>28</td>\n",
       "      <td>44</td>\n",
       "      <td>53</td>\n",
       "      <td>15.16</td>\n",
       "      <td>3.5</td>\n",
       "      <td>91</td>\n",
       "    </tr>\n",
       "    <tr>\n",
       "      <th>1</th>\n",
       "      <td>1</td>\n",
       "      <td>510</td>\n",
       "      <td>44</td>\n",
       "      <td>2020/05/27</td>\n",
       "      <td>22:00:49</td>\n",
       "      <td>36.7707</td>\n",
       "      <td>126.9294</td>\n",
       "      <td>37</td>\n",
       "      <td>28</td>\n",
       "      <td>41</td>\n",
       "      <td>48</td>\n",
       "      <td>14.52</td>\n",
       "      <td>3.5</td>\n",
       "      <td>92</td>\n",
       "    </tr>\n",
       "    <tr>\n",
       "      <th>28</th>\n",
       "      <td>1</td>\n",
       "      <td>511</td>\n",
       "      <td>45</td>\n",
       "      <td>2020/05/27</td>\n",
       "      <td>22:30:49</td>\n",
       "      <td>36.7707</td>\n",
       "      <td>126.9294</td>\n",
       "      <td>37</td>\n",
       "      <td>29</td>\n",
       "      <td>46</td>\n",
       "      <td>53</td>\n",
       "      <td>13.87</td>\n",
       "      <td>3.5</td>\n",
       "      <td>93</td>\n",
       "    </tr>\n",
       "    <tr>\n",
       "      <th>26</th>\n",
       "      <td>1</td>\n",
       "      <td>512</td>\n",
       "      <td>46</td>\n",
       "      <td>2020/05/27</td>\n",
       "      <td>23:00:49</td>\n",
       "      <td>36.7707</td>\n",
       "      <td>126.9294</td>\n",
       "      <td>37</td>\n",
       "      <td>34</td>\n",
       "      <td>52</td>\n",
       "      <td>67</td>\n",
       "      <td>13.87</td>\n",
       "      <td>3.5</td>\n",
       "      <td>94</td>\n",
       "    </tr>\n",
       "    <tr>\n",
       "      <th>24</th>\n",
       "      <td>1</td>\n",
       "      <td>513</td>\n",
       "      <td>47</td>\n",
       "      <td>2020/05/27</td>\n",
       "      <td>23:30:49</td>\n",
       "      <td>36.7707</td>\n",
       "      <td>126.9294</td>\n",
       "      <td>37</td>\n",
       "      <td>28</td>\n",
       "      <td>41</td>\n",
       "      <td>51</td>\n",
       "      <td>12.90</td>\n",
       "      <td>3.5</td>\n",
       "      <td>95</td>\n",
       "    </tr>\n",
       "  </tbody>\n",
       "</table>\n",
       "<p>96 rows × 14 columns</p>\n",
       "</div>"
      ],
      "text/plain": [
       "   0    1   2           3         4        5         6   7   8   9   10  \\\n",
       "95  1  418   0  2020/05/26  00:00:52  36.7707  126.9294  37  38  66  86   \n",
       "94  1  419   1  2020/05/26  00:30:52  36.7707  126.9294  37  39  73  93   \n",
       "93  1  420   2  2020/05/26  01:00:52  36.7707  126.9294  37  34  58  75   \n",
       "92  1  421   3  2020/05/26  01:30:52  36.7707  126.9294  37  37  64  84   \n",
       "91  1  422   4  2020/05/26  02:00:52  36.7707  126.9294  37  30  54  68   \n",
       ".. ..  ...  ..         ...       ...      ...       ...  ..  ..  ..  ..   \n",
       "3   1  509  43  2020/05/27  21:30:49  36.7707  126.9294  37  28  44  53   \n",
       "1   1  510  44  2020/05/27  22:00:49  36.7707  126.9294  37  28  41  48   \n",
       "28  1  511  45  2020/05/27  22:30:49  36.7707  126.9294  37  29  46  53   \n",
       "26  1  512  46  2020/05/27  23:00:49  36.7707  126.9294  37  34  52  67   \n",
       "24  1  513  47  2020/05/27  23:30:49  36.7707  126.9294  37  28  41  51   \n",
       "\n",
       "       11   12  13  \n",
       "95  13.55  3.5   0  \n",
       "94  13.55  3.5   1  \n",
       "93  13.55  3.5   2  \n",
       "92  13.23  3.5   3  \n",
       "91  13.23  3.5   4  \n",
       "..    ...  ...  ..  \n",
       "3   15.16  3.5  91  \n",
       "1   14.52  3.5  92  \n",
       "28  13.87  3.5  93  \n",
       "26  13.87  3.5  94  \n",
       "24  12.90  3.5  95  \n",
       "\n",
       "[96 rows x 14 columns]"
      ]
     },
     "execution_count": 110,
     "metadata": {},
     "output_type": "execute_result"
    }
   ],
   "source": [
    "cin_split = cin_split.astype({13:'int'})\n",
    "cin_split.sort_values(by=13, inplace=True)\n",
    "cin_split"
   ]
  },
  {
   "cell_type": "markdown",
   "metadata": {},
   "source": [
    "numpy 로 안바꿔서 넣으면 행 순서가 뒤죽박죽 됨"
   ]
  },
  {
   "cell_type": "code",
   "execution_count": 112,
   "metadata": {
    "ExecuteTime": {
     "end_time": "2020-05-28T13:10:34.730820Z",
     "start_time": "2020-05-28T13:10:34.725834Z"
    }
   },
   "outputs": [
    {
     "data": {
      "text/plain": [
       "array([['1', '418', '0', ..., '13.55', '3.5', 0],\n",
       "       ['1', '419', '1', ..., '13.55', '3.5', 1],\n",
       "       ['1', '420', '2', ..., '13.55', '3.5', 2],\n",
       "       ...,\n",
       "       ['1', '511', '45', ..., '13.87', '3.5', 93],\n",
       "       ['1', '512', '46', ..., '13.87', '3.5', 94],\n",
       "       ['1', '513', '47', ..., '12.90', '3.5', 95]], dtype=object)"
      ]
     },
     "execution_count": 112,
     "metadata": {},
     "output_type": "execute_result"
    }
   ],
   "source": [
    "cin = cin_split.to_numpy()\n",
    "cin"
   ]
  },
  {
   "cell_type": "code",
   "execution_count": 121,
   "metadata": {
    "ExecuteTime": {
     "end_time": "2020-05-28T13:14:36.561653Z",
     "start_time": "2020-05-28T13:14:36.549715Z"
    }
   },
   "outputs": [],
   "source": [
    "for i in range(len(cin)):\n",
    "    df.loc[cin[i,13]] = cin[i,:13]"
   ]
  },
  {
   "cell_type": "code",
   "execution_count": 124,
   "metadata": {
    "ExecuteTime": {
     "end_time": "2020-05-28T13:15:54.423893Z",
     "start_time": "2020-05-28T13:15:54.409904Z"
    }
   },
   "outputs": [
    {
     "data": {
      "text/html": [
       "<div>\n",
       "<style scoped>\n",
       "    .dataframe tbody tr th:only-of-type {\n",
       "        vertical-align: middle;\n",
       "    }\n",
       "\n",
       "    .dataframe tbody tr th {\n",
       "        vertical-align: top;\n",
       "    }\n",
       "\n",
       "    .dataframe thead th {\n",
       "        text-align: right;\n",
       "    }\n",
       "</style>\n",
       "<table border=\"1\" class=\"dataframe\">\n",
       "  <thead>\n",
       "    <tr style=\"text-align: right;\">\n",
       "      <th></th>\n",
       "      <th>0</th>\n",
       "      <th>1</th>\n",
       "      <th>2</th>\n",
       "      <th>3</th>\n",
       "      <th>4</th>\n",
       "      <th>5</th>\n",
       "      <th>6</th>\n",
       "      <th>7</th>\n",
       "      <th>8</th>\n",
       "      <th>9</th>\n",
       "      <th>10</th>\n",
       "      <th>11</th>\n",
       "      <th>12</th>\n",
       "    </tr>\n",
       "  </thead>\n",
       "  <tbody>\n",
       "    <tr>\n",
       "      <th>0</th>\n",
       "      <td>1</td>\n",
       "      <td>418</td>\n",
       "      <td>0</td>\n",
       "      <td>2020/05/26</td>\n",
       "      <td>00:00:52</td>\n",
       "      <td>36.7707</td>\n",
       "      <td>126.9294</td>\n",
       "      <td>37</td>\n",
       "      <td>38</td>\n",
       "      <td>66</td>\n",
       "      <td>86</td>\n",
       "      <td>13.55</td>\n",
       "      <td>3.5</td>\n",
       "    </tr>\n",
       "    <tr>\n",
       "      <th>1</th>\n",
       "      <td>1</td>\n",
       "      <td>419</td>\n",
       "      <td>1</td>\n",
       "      <td>2020/05/26</td>\n",
       "      <td>00:30:52</td>\n",
       "      <td>36.7707</td>\n",
       "      <td>126.9294</td>\n",
       "      <td>37</td>\n",
       "      <td>39</td>\n",
       "      <td>73</td>\n",
       "      <td>93</td>\n",
       "      <td>13.55</td>\n",
       "      <td>3.5</td>\n",
       "    </tr>\n",
       "    <tr>\n",
       "      <th>2</th>\n",
       "      <td>1</td>\n",
       "      <td>420</td>\n",
       "      <td>2</td>\n",
       "      <td>2020/05/26</td>\n",
       "      <td>01:00:52</td>\n",
       "      <td>36.7707</td>\n",
       "      <td>126.9294</td>\n",
       "      <td>37</td>\n",
       "      <td>34</td>\n",
       "      <td>58</td>\n",
       "      <td>75</td>\n",
       "      <td>13.55</td>\n",
       "      <td>3.5</td>\n",
       "    </tr>\n",
       "    <tr>\n",
       "      <th>3</th>\n",
       "      <td>1</td>\n",
       "      <td>421</td>\n",
       "      <td>3</td>\n",
       "      <td>2020/05/26</td>\n",
       "      <td>01:30:52</td>\n",
       "      <td>36.7707</td>\n",
       "      <td>126.9294</td>\n",
       "      <td>37</td>\n",
       "      <td>37</td>\n",
       "      <td>64</td>\n",
       "      <td>84</td>\n",
       "      <td>13.23</td>\n",
       "      <td>3.5</td>\n",
       "    </tr>\n",
       "    <tr>\n",
       "      <th>4</th>\n",
       "      <td>1</td>\n",
       "      <td>422</td>\n",
       "      <td>4</td>\n",
       "      <td>2020/05/26</td>\n",
       "      <td>02:00:52</td>\n",
       "      <td>36.7707</td>\n",
       "      <td>126.9294</td>\n",
       "      <td>37</td>\n",
       "      <td>30</td>\n",
       "      <td>54</td>\n",
       "      <td>68</td>\n",
       "      <td>13.23</td>\n",
       "      <td>3.5</td>\n",
       "    </tr>\n",
       "    <tr>\n",
       "      <th>...</th>\n",
       "      <td>...</td>\n",
       "      <td>...</td>\n",
       "      <td>...</td>\n",
       "      <td>...</td>\n",
       "      <td>...</td>\n",
       "      <td>...</td>\n",
       "      <td>...</td>\n",
       "      <td>...</td>\n",
       "      <td>...</td>\n",
       "      <td>...</td>\n",
       "      <td>...</td>\n",
       "      <td>...</td>\n",
       "      <td>...</td>\n",
       "    </tr>\n",
       "    <tr>\n",
       "      <th>91</th>\n",
       "      <td>1</td>\n",
       "      <td>509</td>\n",
       "      <td>43</td>\n",
       "      <td>2020/05/27</td>\n",
       "      <td>21:30:49</td>\n",
       "      <td>36.7707</td>\n",
       "      <td>126.9294</td>\n",
       "      <td>37</td>\n",
       "      <td>28</td>\n",
       "      <td>44</td>\n",
       "      <td>53</td>\n",
       "      <td>15.16</td>\n",
       "      <td>3.5</td>\n",
       "    </tr>\n",
       "    <tr>\n",
       "      <th>92</th>\n",
       "      <td>1</td>\n",
       "      <td>510</td>\n",
       "      <td>44</td>\n",
       "      <td>2020/05/27</td>\n",
       "      <td>22:00:49</td>\n",
       "      <td>36.7707</td>\n",
       "      <td>126.9294</td>\n",
       "      <td>37</td>\n",
       "      <td>28</td>\n",
       "      <td>41</td>\n",
       "      <td>48</td>\n",
       "      <td>14.52</td>\n",
       "      <td>3.5</td>\n",
       "    </tr>\n",
       "    <tr>\n",
       "      <th>93</th>\n",
       "      <td>1</td>\n",
       "      <td>511</td>\n",
       "      <td>45</td>\n",
       "      <td>2020/05/27</td>\n",
       "      <td>22:30:49</td>\n",
       "      <td>36.7707</td>\n",
       "      <td>126.9294</td>\n",
       "      <td>37</td>\n",
       "      <td>29</td>\n",
       "      <td>46</td>\n",
       "      <td>53</td>\n",
       "      <td>13.87</td>\n",
       "      <td>3.5</td>\n",
       "    </tr>\n",
       "    <tr>\n",
       "      <th>94</th>\n",
       "      <td>1</td>\n",
       "      <td>512</td>\n",
       "      <td>46</td>\n",
       "      <td>2020/05/27</td>\n",
       "      <td>23:00:49</td>\n",
       "      <td>36.7707</td>\n",
       "      <td>126.9294</td>\n",
       "      <td>37</td>\n",
       "      <td>34</td>\n",
       "      <td>52</td>\n",
       "      <td>67</td>\n",
       "      <td>13.87</td>\n",
       "      <td>3.5</td>\n",
       "    </tr>\n",
       "    <tr>\n",
       "      <th>95</th>\n",
       "      <td>1</td>\n",
       "      <td>513</td>\n",
       "      <td>47</td>\n",
       "      <td>2020/05/27</td>\n",
       "      <td>23:30:49</td>\n",
       "      <td>36.7707</td>\n",
       "      <td>126.9294</td>\n",
       "      <td>37</td>\n",
       "      <td>28</td>\n",
       "      <td>41</td>\n",
       "      <td>51</td>\n",
       "      <td>12.90</td>\n",
       "      <td>3.5</td>\n",
       "    </tr>\n",
       "  </tbody>\n",
       "</table>\n",
       "<p>96 rows × 13 columns</p>\n",
       "</div>"
      ],
      "text/plain": [
       "    0    1   2           3         4        5         6   7   8   9  10  \\\n",
       "0   1  418   0  2020/05/26  00:00:52  36.7707  126.9294  37  38  66  86   \n",
       "1   1  419   1  2020/05/26  00:30:52  36.7707  126.9294  37  39  73  93   \n",
       "2   1  420   2  2020/05/26  01:00:52  36.7707  126.9294  37  34  58  75   \n",
       "3   1  421   3  2020/05/26  01:30:52  36.7707  126.9294  37  37  64  84   \n",
       "4   1  422   4  2020/05/26  02:00:52  36.7707  126.9294  37  30  54  68   \n",
       ".. ..  ...  ..         ...       ...      ...       ...  ..  ..  ..  ..   \n",
       "91  1  509  43  2020/05/27  21:30:49  36.7707  126.9294  37  28  44  53   \n",
       "92  1  510  44  2020/05/27  22:00:49  36.7707  126.9294  37  28  41  48   \n",
       "93  1  511  45  2020/05/27  22:30:49  36.7707  126.9294  37  29  46  53   \n",
       "94  1  512  46  2020/05/27  23:00:49  36.7707  126.9294  37  34  52  67   \n",
       "95  1  513  47  2020/05/27  23:30:49  36.7707  126.9294  37  28  41  51   \n",
       "\n",
       "       11   12  \n",
       "0   13.55  3.5  \n",
       "1   13.55  3.5  \n",
       "2   13.55  3.5  \n",
       "3   13.23  3.5  \n",
       "4   13.23  3.5  \n",
       "..    ...  ...  \n",
       "91  15.16  3.5  \n",
       "92  14.52  3.5  \n",
       "93  13.87  3.5  \n",
       "94  13.87  3.5  \n",
       "95  12.90  3.5  \n",
       "\n",
       "[96 rows x 13 columns]"
      ]
     },
     "execution_count": 124,
     "metadata": {},
     "output_type": "execute_result"
    }
   ],
   "source": [
    "df"
   ]
  },
  {
   "cell_type": "code",
   "execution_count": null,
   "metadata": {},
   "outputs": [],
   "source": []
  },
  {
   "cell_type": "code",
   "execution_count": null,
   "metadata": {},
   "outputs": [],
   "source": []
  },
  {
   "cell_type": "code",
   "execution_count": null,
   "metadata": {},
   "outputs": [],
   "source": []
  }
 ],
 "metadata": {
  "kernelspec": {
   "display_name": "Python 3",
   "language": "python",
   "name": "python3"
  },
  "language_info": {
   "codemirror_mode": {
    "name": "ipython",
    "version": 3
   },
   "file_extension": ".py",
   "mimetype": "text/x-python",
   "name": "python",
   "nbconvert_exporter": "python",
   "pygments_lexer": "ipython3",
   "version": "3.7.7"
  },
  "toc": {
   "base_numbering": 1,
   "nav_menu": {},
   "number_sections": true,
   "sideBar": true,
   "skip_h1_title": false,
   "title_cell": "Table of Contents",
   "title_sidebar": "Contents",
   "toc_cell": false,
   "toc_position": {},
   "toc_section_display": true,
   "toc_window_display": false
  }
 },
 "nbformat": 4,
 "nbformat_minor": 4
}
